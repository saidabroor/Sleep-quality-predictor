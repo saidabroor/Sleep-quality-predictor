{
 "cells": [
  {
   "cell_type": "markdown",
   "id": "d7556082",
   "metadata": {},
   "source": [
    "# Sleep Quality Predictors.Model Classification"
   ]
  },
  {
   "cell_type": "code",
   "execution_count": 55,
   "id": "5911d2bc",
   "metadata": {},
   "outputs": [],
   "source": [
    "import pandas as pd\n",
    "import numpy as np\n",
    "import seaborn as sns\n",
    "import matplotlib.pyplot as plt\n",
    "\n",
    "import klib\n",
    "\n",
    "from sklearn.preprocessing import OneHotEncoder,LabelEncoder,OrdinalEncoder\n",
    "from sklearn.preprocessing import MinMaxScaler,StandardScaler,RobustScaler\n",
    "from sklearn.tree import DecisionTreeClassifier\n",
    "from sklearn.metrics import accuracy_score, classification_report, confusion_matrix\n",
    "from sklearn.model_selection import train_test_split, KFold, cross_val_score, GridSearchCV\n",
    "\n",
    "\n",
    "from sklearn.ensemble import RandomForestClassifier\n",
    "from sklearn.ensemble import GradientBoostingClassifier\n",
    "from sklearn.linear_model import LogisticRegression\n",
    "from lightgbm import LGBMClassifier\n",
    "from xgboost import XGBClassifier\n",
    "\n",
    "from joblib import dump\n",
    "\n",
    "from tabulate import tabulate\n",
    "import warnings\n",
    "warnings.filterwarnings('ignore')"
   ]
  },
  {
   "cell_type": "code",
   "execution_count": 3,
   "id": "3af492a6",
   "metadata": {},
   "outputs": [],
   "source": [
    "df=pd.read_csv(r\"C:\\Users\\Saidabrorkhon\\Downloads\\Telegram Desktop\\sleep_cycle_productivity.csv\")"
   ]
  },
  {
   "cell_type": "code",
   "execution_count": 4,
   "id": "a0429963",
   "metadata": {},
   "outputs": [
    {
     "name": "stdout",
     "output_type": "stream",
     "text": [
      "<class 'pandas.core.frame.DataFrame'>\n",
      "RangeIndex: 5000 entries, 0 to 4999\n",
      "Data columns (total 15 columns):\n",
      " #   Column                         Non-Null Count  Dtype  \n",
      "---  ------                         --------------  -----  \n",
      " 0   Date                           5000 non-null   object \n",
      " 1   Person_ID                      5000 non-null   int64  \n",
      " 2   Age                            5000 non-null   int64  \n",
      " 3   Gender                         5000 non-null   object \n",
      " 4   Sleep Start Time               5000 non-null   float64\n",
      " 5   Sleep End Time                 5000 non-null   float64\n",
      " 6   Total Sleep Hours              5000 non-null   float64\n",
      " 7   Sleep Quality                  5000 non-null   int64  \n",
      " 8   Exercise (mins/day)            5000 non-null   int64  \n",
      " 9   Caffeine Intake (mg)           5000 non-null   int64  \n",
      " 10  Screen Time Before Bed (mins)  5000 non-null   int64  \n",
      " 11  Work Hours (hrs/day)           5000 non-null   float64\n",
      " 12  Productivity Score             5000 non-null   int64  \n",
      " 13  Mood Score                     5000 non-null   int64  \n",
      " 14  Stress Level                   5000 non-null   int64  \n",
      "dtypes: float64(4), int64(9), object(2)\n",
      "memory usage: 586.1+ KB\n"
     ]
    }
   ],
   "source": [
    "df.info()"
   ]
  },
  {
   "cell_type": "code",
   "execution_count": 3,
   "id": "1a7d225d",
   "metadata": {},
   "outputs": [
    {
     "data": {
      "text/html": [
       "<div>\n",
       "<style scoped>\n",
       "    .dataframe tbody tr th:only-of-type {\n",
       "        vertical-align: middle;\n",
       "    }\n",
       "\n",
       "    .dataframe tbody tr th {\n",
       "        vertical-align: top;\n",
       "    }\n",
       "\n",
       "    .dataframe thead th {\n",
       "        text-align: right;\n",
       "    }\n",
       "</style>\n",
       "<table border=\"1\" class=\"dataframe\">\n",
       "  <thead>\n",
       "    <tr style=\"text-align: right;\">\n",
       "      <th></th>\n",
       "      <th>Date</th>\n",
       "      <th>Person_ID</th>\n",
       "      <th>Age</th>\n",
       "      <th>Gender</th>\n",
       "      <th>Sleep Start Time</th>\n",
       "      <th>Sleep End Time</th>\n",
       "      <th>Total Sleep Hours</th>\n",
       "      <th>Sleep Quality</th>\n",
       "      <th>Exercise (mins/day)</th>\n",
       "      <th>Caffeine Intake (mg)</th>\n",
       "      <th>Screen Time Before Bed (mins)</th>\n",
       "      <th>Work Hours (hrs/day)</th>\n",
       "      <th>Productivity Score</th>\n",
       "      <th>Mood Score</th>\n",
       "      <th>Stress Level</th>\n",
       "    </tr>\n",
       "  </thead>\n",
       "  <tbody>\n",
       "    <tr>\n",
       "      <th>0</th>\n",
       "      <td>2024-04-12</td>\n",
       "      <td>1860</td>\n",
       "      <td>32</td>\n",
       "      <td>Other</td>\n",
       "      <td>23.33</td>\n",
       "      <td>4.61</td>\n",
       "      <td>5.28</td>\n",
       "      <td>3</td>\n",
       "      <td>86</td>\n",
       "      <td>87</td>\n",
       "      <td>116</td>\n",
       "      <td>8.808920</td>\n",
       "      <td>8</td>\n",
       "      <td>3</td>\n",
       "      <td>6</td>\n",
       "    </tr>\n",
       "    <tr>\n",
       "      <th>1</th>\n",
       "      <td>2024-11-04</td>\n",
       "      <td>1769</td>\n",
       "      <td>41</td>\n",
       "      <td>Female</td>\n",
       "      <td>21.02</td>\n",
       "      <td>2.43</td>\n",
       "      <td>5.41</td>\n",
       "      <td>5</td>\n",
       "      <td>32</td>\n",
       "      <td>21</td>\n",
       "      <td>88</td>\n",
       "      <td>6.329833</td>\n",
       "      <td>10</td>\n",
       "      <td>3</td>\n",
       "      <td>7</td>\n",
       "    </tr>\n",
       "    <tr>\n",
       "      <th>2</th>\n",
       "      <td>2024-08-31</td>\n",
       "      <td>2528</td>\n",
       "      <td>20</td>\n",
       "      <td>Male</td>\n",
       "      <td>22.10</td>\n",
       "      <td>3.45</td>\n",
       "      <td>5.35</td>\n",
       "      <td>7</td>\n",
       "      <td>17</td>\n",
       "      <td>88</td>\n",
       "      <td>59</td>\n",
       "      <td>8.506306</td>\n",
       "      <td>10</td>\n",
       "      <td>9</td>\n",
       "      <td>10</td>\n",
       "    </tr>\n",
       "    <tr>\n",
       "      <th>3</th>\n",
       "      <td>2024-02-22</td>\n",
       "      <td>8041</td>\n",
       "      <td>37</td>\n",
       "      <td>Other</td>\n",
       "      <td>23.10</td>\n",
       "      <td>6.65</td>\n",
       "      <td>7.55</td>\n",
       "      <td>8</td>\n",
       "      <td>46</td>\n",
       "      <td>34</td>\n",
       "      <td>80</td>\n",
       "      <td>6.070240</td>\n",
       "      <td>8</td>\n",
       "      <td>4</td>\n",
       "      <td>2</td>\n",
       "    </tr>\n",
       "    <tr>\n",
       "      <th>4</th>\n",
       "      <td>2024-02-23</td>\n",
       "      <td>4843</td>\n",
       "      <td>46</td>\n",
       "      <td>Other</td>\n",
       "      <td>21.42</td>\n",
       "      <td>4.17</td>\n",
       "      <td>6.75</td>\n",
       "      <td>10</td>\n",
       "      <td>61</td>\n",
       "      <td>269</td>\n",
       "      <td>94</td>\n",
       "      <td>11.374994</td>\n",
       "      <td>8</td>\n",
       "      <td>7</td>\n",
       "      <td>9</td>\n",
       "    </tr>\n",
       "  </tbody>\n",
       "</table>\n",
       "</div>"
      ],
      "text/plain": [
       "         Date  Person_ID  Age  Gender  Sleep Start Time  Sleep End Time  \\\n",
       "0  2024-04-12       1860   32   Other             23.33            4.61   \n",
       "1  2024-11-04       1769   41  Female             21.02            2.43   \n",
       "2  2024-08-31       2528   20    Male             22.10            3.45   \n",
       "3  2024-02-22       8041   37   Other             23.10            6.65   \n",
       "4  2024-02-23       4843   46   Other             21.42            4.17   \n",
       "\n",
       "   Total Sleep Hours  Sleep Quality  Exercise (mins/day)  \\\n",
       "0               5.28              3                   86   \n",
       "1               5.41              5                   32   \n",
       "2               5.35              7                   17   \n",
       "3               7.55              8                   46   \n",
       "4               6.75             10                   61   \n",
       "\n",
       "   Caffeine Intake (mg)  Screen Time Before Bed (mins)  Work Hours (hrs/day)  \\\n",
       "0                    87                            116              8.808920   \n",
       "1                    21                             88              6.329833   \n",
       "2                    88                             59              8.506306   \n",
       "3                    34                             80              6.070240   \n",
       "4                   269                             94             11.374994   \n",
       "\n",
       "   Productivity Score  Mood Score  Stress Level  \n",
       "0                   8           3             6  \n",
       "1                  10           3             7  \n",
       "2                  10           9            10  \n",
       "3                   8           4             2  \n",
       "4                   8           7             9  "
      ]
     },
     "execution_count": 3,
     "metadata": {},
     "output_type": "execute_result"
    }
   ],
   "source": [
    "df.head()"
   ]
  },
  {
   "cell_type": "code",
   "execution_count": 6,
   "id": "df07d784",
   "metadata": {},
   "outputs": [
    {
     "name": "stdout",
     "output_type": "stream",
     "text": [
      "No missing values found in the dataset.\n"
     ]
    }
   ],
   "source": [
    "klib.missingval_plot(df)"
   ]
  },
  {
   "cell_type": "code",
   "execution_count": null,
   "id": "6c56b84c",
   "metadata": {},
   "outputs": [
    {
     "data": {
      "text/plain": [
       "Date                             0\n",
       "Person_ID                        0\n",
       "Age                              0\n",
       "Gender                           0\n",
       "Sleep Start Time                 0\n",
       "Sleep End Time                   0\n",
       "Total Sleep Hours                0\n",
       "Sleep Quality                    0\n",
       "Exercise (mins/day)              0\n",
       "Caffeine Intake (mg)             0\n",
       "Screen Time Before Bed (mins)    0\n",
       "Work Hours (hrs/day)             0\n",
       "Productivity Score               0\n",
       "Mood Score                       0\n",
       "Stress Level                     0\n",
       "dtype: int64"
      ]
     },
     "execution_count": 4,
     "metadata": {},
     "output_type": "execute_result"
    }
   ],
   "source": [
    "df.isnull().sum()         # no missing values found"
   ]
  },
  {
   "cell_type": "code",
   "execution_count": 5,
   "id": "656cf1f6",
   "metadata": {},
   "outputs": [
    {
     "name": "stdout",
     "output_type": "stream",
     "text": [
      "Index(['Date', 'Person_ID', 'Age', 'Gender', 'Sleep Start Time',\n",
      "       'Sleep End Time', 'Total Sleep Hours', 'Sleep Quality',\n",
      "       'Exercise (mins/day)', 'Caffeine Intake (mg)',\n",
      "       'Screen Time Before Bed (mins)', 'Work Hours (hrs/day)',\n",
      "       'Productivity Score', 'Mood Score', 'Stress Level'],\n",
      "      dtype='object')\n"
     ]
    }
   ],
   "source": [
    "print(df.columns)"
   ]
  },
  {
   "cell_type": "code",
   "execution_count": 10,
   "id": "5e9c5dde",
   "metadata": {},
   "outputs": [],
   "source": [
    "df.drop(columns=['Date', 'Person_ID'], inplace=True)"
   ]
  },
  {
   "cell_type": "code",
   "execution_count": 11,
   "id": "20c41a81",
   "metadata": {},
   "outputs": [
    {
     "name": "stdout",
     "output_type": "stream",
     "text": [
      "<class 'pandas.core.frame.DataFrame'>\n",
      "RangeIndex: 5000 entries, 0 to 4999\n",
      "Data columns (total 13 columns):\n",
      " #   Column                         Non-Null Count  Dtype  \n",
      "---  ------                         --------------  -----  \n",
      " 0   Age                            5000 non-null   int64  \n",
      " 1   Gender                         5000 non-null   object \n",
      " 2   Sleep Start Time               5000 non-null   float64\n",
      " 3   Sleep End Time                 5000 non-null   float64\n",
      " 4   Total Sleep Hours              5000 non-null   float64\n",
      " 5   Sleep Quality                  5000 non-null   int64  \n",
      " 6   Exercise (mins/day)            5000 non-null   int64  \n",
      " 7   Caffeine Intake (mg)           5000 non-null   int64  \n",
      " 8   Screen Time Before Bed (mins)  5000 non-null   int64  \n",
      " 9   Work Hours (hrs/day)           5000 non-null   float64\n",
      " 10  Productivity Score             5000 non-null   int64  \n",
      " 11  Mood Score                     5000 non-null   int64  \n",
      " 12  Stress Level                   5000 non-null   int64  \n",
      "dtypes: float64(4), int64(8), object(1)\n",
      "memory usage: 507.9+ KB\n"
     ]
    }
   ],
   "source": [
    "df.info()"
   ]
  },
  {
   "cell_type": "code",
   "execution_count": 12,
   "id": "cd8eced6",
   "metadata": {},
   "outputs": [],
   "source": [
    "def categorize_sleep_quality(score):\n",
    "    if score <= 2:\n",
    "        return 'Poor'\n",
    "    elif score <= 5:\n",
    "        return 'Okay'\n",
    "    elif score <= 7:\n",
    "        return 'Good'\n",
    "    else:\n",
    "        return 'Excellent'"
   ]
  },
  {
   "cell_type": "code",
   "execution_count": 13,
   "id": "561ee0d5",
   "metadata": {},
   "outputs": [],
   "source": [
    "df['Sleep Quality Category'] = df['Sleep Quality'].apply(categorize_sleep_quality)"
   ]
  },
  {
   "cell_type": "code",
   "execution_count": 10,
   "id": "97c54e9b",
   "metadata": {},
   "outputs": [
    {
     "data": {
      "text/html": [
       "<div>\n",
       "<style scoped>\n",
       "    .dataframe tbody tr th:only-of-type {\n",
       "        vertical-align: middle;\n",
       "    }\n",
       "\n",
       "    .dataframe tbody tr th {\n",
       "        vertical-align: top;\n",
       "    }\n",
       "\n",
       "    .dataframe thead th {\n",
       "        text-align: right;\n",
       "    }\n",
       "</style>\n",
       "<table border=\"1\" class=\"dataframe\">\n",
       "  <thead>\n",
       "    <tr style=\"text-align: right;\">\n",
       "      <th></th>\n",
       "      <th>Person_ID</th>\n",
       "      <th>Age</th>\n",
       "      <th>Gender</th>\n",
       "      <th>Sleep Start Time</th>\n",
       "      <th>Sleep End Time</th>\n",
       "      <th>Total Sleep Hours</th>\n",
       "      <th>Sleep Quality</th>\n",
       "      <th>Exercise (mins/day)</th>\n",
       "      <th>Caffeine Intake (mg)</th>\n",
       "      <th>Screen Time Before Bed (mins)</th>\n",
       "      <th>Work Hours (hrs/day)</th>\n",
       "      <th>Productivity Score</th>\n",
       "      <th>Mood Score</th>\n",
       "      <th>Stress Level</th>\n",
       "      <th>Sleep Quality Category</th>\n",
       "    </tr>\n",
       "  </thead>\n",
       "  <tbody>\n",
       "    <tr>\n",
       "      <th>0</th>\n",
       "      <td>1860</td>\n",
       "      <td>32</td>\n",
       "      <td>Other</td>\n",
       "      <td>23.33</td>\n",
       "      <td>4.61</td>\n",
       "      <td>5.28</td>\n",
       "      <td>3</td>\n",
       "      <td>86</td>\n",
       "      <td>87</td>\n",
       "      <td>116</td>\n",
       "      <td>8.808920</td>\n",
       "      <td>8</td>\n",
       "      <td>3</td>\n",
       "      <td>6</td>\n",
       "      <td>Okay</td>\n",
       "    </tr>\n",
       "    <tr>\n",
       "      <th>1</th>\n",
       "      <td>1769</td>\n",
       "      <td>41</td>\n",
       "      <td>Female</td>\n",
       "      <td>21.02</td>\n",
       "      <td>2.43</td>\n",
       "      <td>5.41</td>\n",
       "      <td>5</td>\n",
       "      <td>32</td>\n",
       "      <td>21</td>\n",
       "      <td>88</td>\n",
       "      <td>6.329833</td>\n",
       "      <td>10</td>\n",
       "      <td>3</td>\n",
       "      <td>7</td>\n",
       "      <td>Okay</td>\n",
       "    </tr>\n",
       "    <tr>\n",
       "      <th>2</th>\n",
       "      <td>2528</td>\n",
       "      <td>20</td>\n",
       "      <td>Male</td>\n",
       "      <td>22.10</td>\n",
       "      <td>3.45</td>\n",
       "      <td>5.35</td>\n",
       "      <td>7</td>\n",
       "      <td>17</td>\n",
       "      <td>88</td>\n",
       "      <td>59</td>\n",
       "      <td>8.506306</td>\n",
       "      <td>10</td>\n",
       "      <td>9</td>\n",
       "      <td>10</td>\n",
       "      <td>Good</td>\n",
       "    </tr>\n",
       "    <tr>\n",
       "      <th>3</th>\n",
       "      <td>8041</td>\n",
       "      <td>37</td>\n",
       "      <td>Other</td>\n",
       "      <td>23.10</td>\n",
       "      <td>6.65</td>\n",
       "      <td>7.55</td>\n",
       "      <td>8</td>\n",
       "      <td>46</td>\n",
       "      <td>34</td>\n",
       "      <td>80</td>\n",
       "      <td>6.070240</td>\n",
       "      <td>8</td>\n",
       "      <td>4</td>\n",
       "      <td>2</td>\n",
       "      <td>Excellent</td>\n",
       "    </tr>\n",
       "    <tr>\n",
       "      <th>4</th>\n",
       "      <td>4843</td>\n",
       "      <td>46</td>\n",
       "      <td>Other</td>\n",
       "      <td>21.42</td>\n",
       "      <td>4.17</td>\n",
       "      <td>6.75</td>\n",
       "      <td>10</td>\n",
       "      <td>61</td>\n",
       "      <td>269</td>\n",
       "      <td>94</td>\n",
       "      <td>11.374994</td>\n",
       "      <td>8</td>\n",
       "      <td>7</td>\n",
       "      <td>9</td>\n",
       "      <td>Excellent</td>\n",
       "    </tr>\n",
       "  </tbody>\n",
       "</table>\n",
       "</div>"
      ],
      "text/plain": [
       "   Person_ID  Age  Gender  Sleep Start Time  Sleep End Time  \\\n",
       "0       1860   32   Other             23.33            4.61   \n",
       "1       1769   41  Female             21.02            2.43   \n",
       "2       2528   20    Male             22.10            3.45   \n",
       "3       8041   37   Other             23.10            6.65   \n",
       "4       4843   46   Other             21.42            4.17   \n",
       "\n",
       "   Total Sleep Hours  Sleep Quality  Exercise (mins/day)  \\\n",
       "0               5.28              3                   86   \n",
       "1               5.41              5                   32   \n",
       "2               5.35              7                   17   \n",
       "3               7.55              8                   46   \n",
       "4               6.75             10                   61   \n",
       "\n",
       "   Caffeine Intake (mg)  Screen Time Before Bed (mins)  Work Hours (hrs/day)  \\\n",
       "0                    87                            116              8.808920   \n",
       "1                    21                             88              6.329833   \n",
       "2                    88                             59              8.506306   \n",
       "3                    34                             80              6.070240   \n",
       "4                   269                             94             11.374994   \n",
       "\n",
       "   Productivity Score  Mood Score  Stress Level Sleep Quality Category  \n",
       "0                   8           3             6                   Okay  \n",
       "1                  10           3             7                   Okay  \n",
       "2                  10           9            10                   Good  \n",
       "3                   8           4             2              Excellent  \n",
       "4                   8           7             9              Excellent  "
      ]
     },
     "execution_count": 10,
     "metadata": {},
     "output_type": "execute_result"
    }
   ],
   "source": [
    "df.head()"
   ]
  },
  {
   "cell_type": "code",
   "execution_count": 14,
   "id": "35413dab",
   "metadata": {},
   "outputs": [
    {
     "name": "stdout",
     "output_type": "stream",
     "text": [
      "<class 'pandas.core.frame.DataFrame'>\n",
      "RangeIndex: 5000 entries, 0 to 4999\n",
      "Data columns (total 14 columns):\n",
      " #   Column                         Non-Null Count  Dtype  \n",
      "---  ------                         --------------  -----  \n",
      " 0   Age                            5000 non-null   int64  \n",
      " 1   Gender                         5000 non-null   object \n",
      " 2   Sleep Start Time               5000 non-null   float64\n",
      " 3   Sleep End Time                 5000 non-null   float64\n",
      " 4   Total Sleep Hours              5000 non-null   float64\n",
      " 5   Sleep Quality                  5000 non-null   int64  \n",
      " 6   Exercise (mins/day)            5000 non-null   int64  \n",
      " 7   Caffeine Intake (mg)           5000 non-null   int64  \n",
      " 8   Screen Time Before Bed (mins)  5000 non-null   int64  \n",
      " 9   Work Hours (hrs/day)           5000 non-null   float64\n",
      " 10  Productivity Score             5000 non-null   int64  \n",
      " 11  Mood Score                     5000 non-null   int64  \n",
      " 12  Stress Level                   5000 non-null   int64  \n",
      " 13  Sleep Quality Category         5000 non-null   object \n",
      "dtypes: float64(4), int64(8), object(2)\n",
      "memory usage: 547.0+ KB\n"
     ]
    }
   ],
   "source": [
    "df.info()"
   ]
  },
  {
   "cell_type": "code",
   "execution_count": 13,
   "id": "5f862594",
   "metadata": {},
   "outputs": [
    {
     "data": {
      "text/plain": [
       "Sleep Quality\n",
       "5     521\n",
       "10    521\n",
       "7     517\n",
       "4     508\n",
       "2     503\n",
       "8     491\n",
       "3     490\n",
       "6     489\n",
       "9     480\n",
       "1     480\n",
       "Name: count, dtype: int64"
      ]
     },
     "execution_count": 13,
     "metadata": {},
     "output_type": "execute_result"
    }
   ],
   "source": [
    "df['Sleep Quality'].value_counts()"
   ]
  },
  {
   "cell_type": "code",
   "execution_count": 15,
   "id": "a5b5cedd",
   "metadata": {},
   "outputs": [],
   "source": [
    "# Encoding\n",
    "label=LabelEncoder()\n",
    "df['Gender']=label.fit_transform(df['Gender'])\n",
    "\n",
    "encoder=OrdinalEncoder(categories=[['Poor','Okay','Good','Excellent']])\n",
    "df[['Sleep Quality Category']] = encoder.fit_transform(df[['Sleep Quality Category']])"
   ]
  },
  {
   "cell_type": "code",
   "execution_count": 16,
   "id": "87e62184",
   "metadata": {},
   "outputs": [],
   "source": [
    "df['Sleep Quality Category'] = df['Sleep Quality Category'].astype(int)\n",
    "df['Gender'] = df['Gender'].astype(int)"
   ]
  },
  {
   "cell_type": "code",
   "execution_count": 17,
   "id": "1fcb2e4f",
   "metadata": {},
   "outputs": [
    {
     "name": "stdout",
     "output_type": "stream",
     "text": [
      "<class 'pandas.core.frame.DataFrame'>\n",
      "RangeIndex: 5000 entries, 0 to 4999\n",
      "Data columns (total 14 columns):\n",
      " #   Column                         Non-Null Count  Dtype  \n",
      "---  ------                         --------------  -----  \n",
      " 0   Age                            5000 non-null   int64  \n",
      " 1   Gender                         5000 non-null   int64  \n",
      " 2   Sleep Start Time               5000 non-null   float64\n",
      " 3   Sleep End Time                 5000 non-null   float64\n",
      " 4   Total Sleep Hours              5000 non-null   float64\n",
      " 5   Sleep Quality                  5000 non-null   int64  \n",
      " 6   Exercise (mins/day)            5000 non-null   int64  \n",
      " 7   Caffeine Intake (mg)           5000 non-null   int64  \n",
      " 8   Screen Time Before Bed (mins)  5000 non-null   int64  \n",
      " 9   Work Hours (hrs/day)           5000 non-null   float64\n",
      " 10  Productivity Score             5000 non-null   int64  \n",
      " 11  Mood Score                     5000 non-null   int64  \n",
      " 12  Stress Level                   5000 non-null   int64  \n",
      " 13  Sleep Quality Category         5000 non-null   int64  \n",
      "dtypes: float64(4), int64(10)\n",
      "memory usage: 547.0 KB\n"
     ]
    }
   ],
   "source": [
    "df.info()"
   ]
  },
  {
   "cell_type": "code",
   "execution_count": 18,
   "id": "f6b91099",
   "metadata": {},
   "outputs": [],
   "source": [
    "# Feature Engineering\n",
    "\n",
    "# Nap Duration\n",
    "df['Nap Duration'] = (8 - df['Total Sleep Hours']) * 10 + df['Stress Level'] * 5 - df['Mood Score'] * 3 - df['Work Hours (hrs/day)'] * 2\n",
    "df['Nap Duration'] = np.maximum(df['Nap Duration'], 0)  \n",
    "\n",
    "# Room Environment\n",
    "df['Room Environment'] = df['Sleep Quality'] * 10 - df['Screen Time Before Bed (mins)'] * 0.3 - df['Caffeine Intake (mg)'] * 0.05\n",
    "df['Room Environment'] = df['Room Environment'].clip(0, 100)  "
   ]
  },
  {
   "cell_type": "code",
   "execution_count": 42,
   "id": "a2bd45bb",
   "metadata": {},
   "outputs": [
    {
     "name": "stdout",
     "output_type": "stream",
     "text": [
      "<class 'pandas.core.frame.DataFrame'>\n",
      "RangeIndex: 5000 entries, 0 to 4999\n",
      "Data columns (total 16 columns):\n",
      " #   Column                         Non-Null Count  Dtype  \n",
      "---  ------                         --------------  -----  \n",
      " 0   Age                            5000 non-null   int64  \n",
      " 1   Gender                         5000 non-null   int64  \n",
      " 2   Sleep Start Time               5000 non-null   float64\n",
      " 3   Sleep End Time                 5000 non-null   float64\n",
      " 4   Total Sleep Hours              5000 non-null   float64\n",
      " 5   Sleep Quality                  5000 non-null   int64  \n",
      " 6   Exercise (mins/day)            5000 non-null   int64  \n",
      " 7   Caffeine Intake (mg)           5000 non-null   int64  \n",
      " 8   Screen Time Before Bed (mins)  5000 non-null   int64  \n",
      " 9   Work Hours (hrs/day)           5000 non-null   float64\n",
      " 10  Productivity Score             5000 non-null   int64  \n",
      " 11  Mood Score                     5000 non-null   int64  \n",
      " 12  Stress Level                   5000 non-null   int64  \n",
      " 13  Sleep Quality Category         5000 non-null   int64  \n",
      " 14  Nap Duration                   5000 non-null   float64\n",
      " 15  Room Environment               5000 non-null   float64\n",
      "dtypes: float64(6), int64(10)\n",
      "memory usage: 625.1 KB\n"
     ]
    }
   ],
   "source": [
    "df.info()"
   ]
  },
  {
   "cell_type": "code",
   "execution_count": 19,
   "id": "b0a518df",
   "metadata": {},
   "outputs": [],
   "source": [
    "x = df.drop(['Sleep Quality', 'Sleep Quality Category'], axis=1)\n",
    "y = df['Sleep Quality Category']"
   ]
  },
  {
   "cell_type": "code",
   "execution_count": 20,
   "id": "fc90cb09",
   "metadata": {},
   "outputs": [],
   "source": [
    "x_train,x_temp,y_train,y_temp=train_test_split(x,y,test_size=0.2,random_state=42)\n",
    "x_test,x_val,y_test,y_val=train_test_split(x_temp,y_temp,test_size=0.5,random_state=42)"
   ]
  },
  {
   "cell_type": "code",
   "execution_count": null,
   "id": "7fe28602",
   "metadata": {},
   "outputs": [],
   "source": [
    "# DecisionTreeClassifier\n",
    "dt_model=DecisionTreeClassifier(random_state=42)"
   ]
  },
  {
   "cell_type": "code",
   "execution_count": 22,
   "id": "719fea4a",
   "metadata": {},
   "outputs": [
    {
     "data": {
      "text/html": [
       "<style>#sk-container-id-1 {\n",
       "  /* Definition of color scheme common for light and dark mode */\n",
       "  --sklearn-color-text: #000;\n",
       "  --sklearn-color-text-muted: #666;\n",
       "  --sklearn-color-line: gray;\n",
       "  /* Definition of color scheme for unfitted estimators */\n",
       "  --sklearn-color-unfitted-level-0: #fff5e6;\n",
       "  --sklearn-color-unfitted-level-1: #f6e4d2;\n",
       "  --sklearn-color-unfitted-level-2: #ffe0b3;\n",
       "  --sklearn-color-unfitted-level-3: chocolate;\n",
       "  /* Definition of color scheme for fitted estimators */\n",
       "  --sklearn-color-fitted-level-0: #f0f8ff;\n",
       "  --sklearn-color-fitted-level-1: #d4ebff;\n",
       "  --sklearn-color-fitted-level-2: #b3dbfd;\n",
       "  --sklearn-color-fitted-level-3: cornflowerblue;\n",
       "\n",
       "  /* Specific color for light theme */\n",
       "  --sklearn-color-text-on-default-background: var(--sg-text-color, var(--theme-code-foreground, var(--jp-content-font-color1, black)));\n",
       "  --sklearn-color-background: var(--sg-background-color, var(--theme-background, var(--jp-layout-color0, white)));\n",
       "  --sklearn-color-border-box: var(--sg-text-color, var(--theme-code-foreground, var(--jp-content-font-color1, black)));\n",
       "  --sklearn-color-icon: #696969;\n",
       "\n",
       "  @media (prefers-color-scheme: dark) {\n",
       "    /* Redefinition of color scheme for dark theme */\n",
       "    --sklearn-color-text-on-default-background: var(--sg-text-color, var(--theme-code-foreground, var(--jp-content-font-color1, white)));\n",
       "    --sklearn-color-background: var(--sg-background-color, var(--theme-background, var(--jp-layout-color0, #111)));\n",
       "    --sklearn-color-border-box: var(--sg-text-color, var(--theme-code-foreground, var(--jp-content-font-color1, white)));\n",
       "    --sklearn-color-icon: #878787;\n",
       "  }\n",
       "}\n",
       "\n",
       "#sk-container-id-1 {\n",
       "  color: var(--sklearn-color-text);\n",
       "}\n",
       "\n",
       "#sk-container-id-1 pre {\n",
       "  padding: 0;\n",
       "}\n",
       "\n",
       "#sk-container-id-1 input.sk-hidden--visually {\n",
       "  border: 0;\n",
       "  clip: rect(1px 1px 1px 1px);\n",
       "  clip: rect(1px, 1px, 1px, 1px);\n",
       "  height: 1px;\n",
       "  margin: -1px;\n",
       "  overflow: hidden;\n",
       "  padding: 0;\n",
       "  position: absolute;\n",
       "  width: 1px;\n",
       "}\n",
       "\n",
       "#sk-container-id-1 div.sk-dashed-wrapped {\n",
       "  border: 1px dashed var(--sklearn-color-line);\n",
       "  margin: 0 0.4em 0.5em 0.4em;\n",
       "  box-sizing: border-box;\n",
       "  padding-bottom: 0.4em;\n",
       "  background-color: var(--sklearn-color-background);\n",
       "}\n",
       "\n",
       "#sk-container-id-1 div.sk-container {\n",
       "  /* jupyter's `normalize.less` sets `[hidden] { display: none; }`\n",
       "     but bootstrap.min.css set `[hidden] { display: none !important; }`\n",
       "     so we also need the `!important` here to be able to override the\n",
       "     default hidden behavior on the sphinx rendered scikit-learn.org.\n",
       "     See: https://github.com/scikit-learn/scikit-learn/issues/21755 */\n",
       "  display: inline-block !important;\n",
       "  position: relative;\n",
       "}\n",
       "\n",
       "#sk-container-id-1 div.sk-text-repr-fallback {\n",
       "  display: none;\n",
       "}\n",
       "\n",
       "div.sk-parallel-item,\n",
       "div.sk-serial,\n",
       "div.sk-item {\n",
       "  /* draw centered vertical line to link estimators */\n",
       "  background-image: linear-gradient(var(--sklearn-color-text-on-default-background), var(--sklearn-color-text-on-default-background));\n",
       "  background-size: 2px 100%;\n",
       "  background-repeat: no-repeat;\n",
       "  background-position: center center;\n",
       "}\n",
       "\n",
       "/* Parallel-specific style estimator block */\n",
       "\n",
       "#sk-container-id-1 div.sk-parallel-item::after {\n",
       "  content: \"\";\n",
       "  width: 100%;\n",
       "  border-bottom: 2px solid var(--sklearn-color-text-on-default-background);\n",
       "  flex-grow: 1;\n",
       "}\n",
       "\n",
       "#sk-container-id-1 div.sk-parallel {\n",
       "  display: flex;\n",
       "  align-items: stretch;\n",
       "  justify-content: center;\n",
       "  background-color: var(--sklearn-color-background);\n",
       "  position: relative;\n",
       "}\n",
       "\n",
       "#sk-container-id-1 div.sk-parallel-item {\n",
       "  display: flex;\n",
       "  flex-direction: column;\n",
       "}\n",
       "\n",
       "#sk-container-id-1 div.sk-parallel-item:first-child::after {\n",
       "  align-self: flex-end;\n",
       "  width: 50%;\n",
       "}\n",
       "\n",
       "#sk-container-id-1 div.sk-parallel-item:last-child::after {\n",
       "  align-self: flex-start;\n",
       "  width: 50%;\n",
       "}\n",
       "\n",
       "#sk-container-id-1 div.sk-parallel-item:only-child::after {\n",
       "  width: 0;\n",
       "}\n",
       "\n",
       "/* Serial-specific style estimator block */\n",
       "\n",
       "#sk-container-id-1 div.sk-serial {\n",
       "  display: flex;\n",
       "  flex-direction: column;\n",
       "  align-items: center;\n",
       "  background-color: var(--sklearn-color-background);\n",
       "  padding-right: 1em;\n",
       "  padding-left: 1em;\n",
       "}\n",
       "\n",
       "\n",
       "/* Toggleable style: style used for estimator/Pipeline/ColumnTransformer box that is\n",
       "clickable and can be expanded/collapsed.\n",
       "- Pipeline and ColumnTransformer use this feature and define the default style\n",
       "- Estimators will overwrite some part of the style using the `sk-estimator` class\n",
       "*/\n",
       "\n",
       "/* Pipeline and ColumnTransformer style (default) */\n",
       "\n",
       "#sk-container-id-1 div.sk-toggleable {\n",
       "  /* Default theme specific background. It is overwritten whether we have a\n",
       "  specific estimator or a Pipeline/ColumnTransformer */\n",
       "  background-color: var(--sklearn-color-background);\n",
       "}\n",
       "\n",
       "/* Toggleable label */\n",
       "#sk-container-id-1 label.sk-toggleable__label {\n",
       "  cursor: pointer;\n",
       "  display: flex;\n",
       "  width: 100%;\n",
       "  margin-bottom: 0;\n",
       "  padding: 0.5em;\n",
       "  box-sizing: border-box;\n",
       "  text-align: center;\n",
       "  align-items: start;\n",
       "  justify-content: space-between;\n",
       "  gap: 0.5em;\n",
       "}\n",
       "\n",
       "#sk-container-id-1 label.sk-toggleable__label .caption {\n",
       "  font-size: 0.6rem;\n",
       "  font-weight: lighter;\n",
       "  color: var(--sklearn-color-text-muted);\n",
       "}\n",
       "\n",
       "#sk-container-id-1 label.sk-toggleable__label-arrow:before {\n",
       "  /* Arrow on the left of the label */\n",
       "  content: \"▸\";\n",
       "  float: left;\n",
       "  margin-right: 0.25em;\n",
       "  color: var(--sklearn-color-icon);\n",
       "}\n",
       "\n",
       "#sk-container-id-1 label.sk-toggleable__label-arrow:hover:before {\n",
       "  color: var(--sklearn-color-text);\n",
       "}\n",
       "\n",
       "/* Toggleable content - dropdown */\n",
       "\n",
       "#sk-container-id-1 div.sk-toggleable__content {\n",
       "  max-height: 0;\n",
       "  max-width: 0;\n",
       "  overflow: hidden;\n",
       "  text-align: left;\n",
       "  /* unfitted */\n",
       "  background-color: var(--sklearn-color-unfitted-level-0);\n",
       "}\n",
       "\n",
       "#sk-container-id-1 div.sk-toggleable__content.fitted {\n",
       "  /* fitted */\n",
       "  background-color: var(--sklearn-color-fitted-level-0);\n",
       "}\n",
       "\n",
       "#sk-container-id-1 div.sk-toggleable__content pre {\n",
       "  margin: 0.2em;\n",
       "  border-radius: 0.25em;\n",
       "  color: var(--sklearn-color-text);\n",
       "  /* unfitted */\n",
       "  background-color: var(--sklearn-color-unfitted-level-0);\n",
       "}\n",
       "\n",
       "#sk-container-id-1 div.sk-toggleable__content.fitted pre {\n",
       "  /* unfitted */\n",
       "  background-color: var(--sklearn-color-fitted-level-0);\n",
       "}\n",
       "\n",
       "#sk-container-id-1 input.sk-toggleable__control:checked~div.sk-toggleable__content {\n",
       "  /* Expand drop-down */\n",
       "  max-height: 200px;\n",
       "  max-width: 100%;\n",
       "  overflow: auto;\n",
       "}\n",
       "\n",
       "#sk-container-id-1 input.sk-toggleable__control:checked~label.sk-toggleable__label-arrow:before {\n",
       "  content: \"▾\";\n",
       "}\n",
       "\n",
       "/* Pipeline/ColumnTransformer-specific style */\n",
       "\n",
       "#sk-container-id-1 div.sk-label input.sk-toggleable__control:checked~label.sk-toggleable__label {\n",
       "  color: var(--sklearn-color-text);\n",
       "  background-color: var(--sklearn-color-unfitted-level-2);\n",
       "}\n",
       "\n",
       "#sk-container-id-1 div.sk-label.fitted input.sk-toggleable__control:checked~label.sk-toggleable__label {\n",
       "  background-color: var(--sklearn-color-fitted-level-2);\n",
       "}\n",
       "\n",
       "/* Estimator-specific style */\n",
       "\n",
       "/* Colorize estimator box */\n",
       "#sk-container-id-1 div.sk-estimator input.sk-toggleable__control:checked~label.sk-toggleable__label {\n",
       "  /* unfitted */\n",
       "  background-color: var(--sklearn-color-unfitted-level-2);\n",
       "}\n",
       "\n",
       "#sk-container-id-1 div.sk-estimator.fitted input.sk-toggleable__control:checked~label.sk-toggleable__label {\n",
       "  /* fitted */\n",
       "  background-color: var(--sklearn-color-fitted-level-2);\n",
       "}\n",
       "\n",
       "#sk-container-id-1 div.sk-label label.sk-toggleable__label,\n",
       "#sk-container-id-1 div.sk-label label {\n",
       "  /* The background is the default theme color */\n",
       "  color: var(--sklearn-color-text-on-default-background);\n",
       "}\n",
       "\n",
       "/* On hover, darken the color of the background */\n",
       "#sk-container-id-1 div.sk-label:hover label.sk-toggleable__label {\n",
       "  color: var(--sklearn-color-text);\n",
       "  background-color: var(--sklearn-color-unfitted-level-2);\n",
       "}\n",
       "\n",
       "/* Label box, darken color on hover, fitted */\n",
       "#sk-container-id-1 div.sk-label.fitted:hover label.sk-toggleable__label.fitted {\n",
       "  color: var(--sklearn-color-text);\n",
       "  background-color: var(--sklearn-color-fitted-level-2);\n",
       "}\n",
       "\n",
       "/* Estimator label */\n",
       "\n",
       "#sk-container-id-1 div.sk-label label {\n",
       "  font-family: monospace;\n",
       "  font-weight: bold;\n",
       "  display: inline-block;\n",
       "  line-height: 1.2em;\n",
       "}\n",
       "\n",
       "#sk-container-id-1 div.sk-label-container {\n",
       "  text-align: center;\n",
       "}\n",
       "\n",
       "/* Estimator-specific */\n",
       "#sk-container-id-1 div.sk-estimator {\n",
       "  font-family: monospace;\n",
       "  border: 1px dotted var(--sklearn-color-border-box);\n",
       "  border-radius: 0.25em;\n",
       "  box-sizing: border-box;\n",
       "  margin-bottom: 0.5em;\n",
       "  /* unfitted */\n",
       "  background-color: var(--sklearn-color-unfitted-level-0);\n",
       "}\n",
       "\n",
       "#sk-container-id-1 div.sk-estimator.fitted {\n",
       "  /* fitted */\n",
       "  background-color: var(--sklearn-color-fitted-level-0);\n",
       "}\n",
       "\n",
       "/* on hover */\n",
       "#sk-container-id-1 div.sk-estimator:hover {\n",
       "  /* unfitted */\n",
       "  background-color: var(--sklearn-color-unfitted-level-2);\n",
       "}\n",
       "\n",
       "#sk-container-id-1 div.sk-estimator.fitted:hover {\n",
       "  /* fitted */\n",
       "  background-color: var(--sklearn-color-fitted-level-2);\n",
       "}\n",
       "\n",
       "/* Specification for estimator info (e.g. \"i\" and \"?\") */\n",
       "\n",
       "/* Common style for \"i\" and \"?\" */\n",
       "\n",
       ".sk-estimator-doc-link,\n",
       "a:link.sk-estimator-doc-link,\n",
       "a:visited.sk-estimator-doc-link {\n",
       "  float: right;\n",
       "  font-size: smaller;\n",
       "  line-height: 1em;\n",
       "  font-family: monospace;\n",
       "  background-color: var(--sklearn-color-background);\n",
       "  border-radius: 1em;\n",
       "  height: 1em;\n",
       "  width: 1em;\n",
       "  text-decoration: none !important;\n",
       "  margin-left: 0.5em;\n",
       "  text-align: center;\n",
       "  /* unfitted */\n",
       "  border: var(--sklearn-color-unfitted-level-1) 1pt solid;\n",
       "  color: var(--sklearn-color-unfitted-level-1);\n",
       "}\n",
       "\n",
       ".sk-estimator-doc-link.fitted,\n",
       "a:link.sk-estimator-doc-link.fitted,\n",
       "a:visited.sk-estimator-doc-link.fitted {\n",
       "  /* fitted */\n",
       "  border: var(--sklearn-color-fitted-level-1) 1pt solid;\n",
       "  color: var(--sklearn-color-fitted-level-1);\n",
       "}\n",
       "\n",
       "/* On hover */\n",
       "div.sk-estimator:hover .sk-estimator-doc-link:hover,\n",
       ".sk-estimator-doc-link:hover,\n",
       "div.sk-label-container:hover .sk-estimator-doc-link:hover,\n",
       ".sk-estimator-doc-link:hover {\n",
       "  /* unfitted */\n",
       "  background-color: var(--sklearn-color-unfitted-level-3);\n",
       "  color: var(--sklearn-color-background);\n",
       "  text-decoration: none;\n",
       "}\n",
       "\n",
       "div.sk-estimator.fitted:hover .sk-estimator-doc-link.fitted:hover,\n",
       ".sk-estimator-doc-link.fitted:hover,\n",
       "div.sk-label-container:hover .sk-estimator-doc-link.fitted:hover,\n",
       ".sk-estimator-doc-link.fitted:hover {\n",
       "  /* fitted */\n",
       "  background-color: var(--sklearn-color-fitted-level-3);\n",
       "  color: var(--sklearn-color-background);\n",
       "  text-decoration: none;\n",
       "}\n",
       "\n",
       "/* Span, style for the box shown on hovering the info icon */\n",
       ".sk-estimator-doc-link span {\n",
       "  display: none;\n",
       "  z-index: 9999;\n",
       "  position: relative;\n",
       "  font-weight: normal;\n",
       "  right: .2ex;\n",
       "  padding: .5ex;\n",
       "  margin: .5ex;\n",
       "  width: min-content;\n",
       "  min-width: 20ex;\n",
       "  max-width: 50ex;\n",
       "  color: var(--sklearn-color-text);\n",
       "  box-shadow: 2pt 2pt 4pt #999;\n",
       "  /* unfitted */\n",
       "  background: var(--sklearn-color-unfitted-level-0);\n",
       "  border: .5pt solid var(--sklearn-color-unfitted-level-3);\n",
       "}\n",
       "\n",
       ".sk-estimator-doc-link.fitted span {\n",
       "  /* fitted */\n",
       "  background: var(--sklearn-color-fitted-level-0);\n",
       "  border: var(--sklearn-color-fitted-level-3);\n",
       "}\n",
       "\n",
       ".sk-estimator-doc-link:hover span {\n",
       "  display: block;\n",
       "}\n",
       "\n",
       "/* \"?\"-specific style due to the `<a>` HTML tag */\n",
       "\n",
       "#sk-container-id-1 a.estimator_doc_link {\n",
       "  float: right;\n",
       "  font-size: 1rem;\n",
       "  line-height: 1em;\n",
       "  font-family: monospace;\n",
       "  background-color: var(--sklearn-color-background);\n",
       "  border-radius: 1rem;\n",
       "  height: 1rem;\n",
       "  width: 1rem;\n",
       "  text-decoration: none;\n",
       "  /* unfitted */\n",
       "  color: var(--sklearn-color-unfitted-level-1);\n",
       "  border: var(--sklearn-color-unfitted-level-1) 1pt solid;\n",
       "}\n",
       "\n",
       "#sk-container-id-1 a.estimator_doc_link.fitted {\n",
       "  /* fitted */\n",
       "  border: var(--sklearn-color-fitted-level-1) 1pt solid;\n",
       "  color: var(--sklearn-color-fitted-level-1);\n",
       "}\n",
       "\n",
       "/* On hover */\n",
       "#sk-container-id-1 a.estimator_doc_link:hover {\n",
       "  /* unfitted */\n",
       "  background-color: var(--sklearn-color-unfitted-level-3);\n",
       "  color: var(--sklearn-color-background);\n",
       "  text-decoration: none;\n",
       "}\n",
       "\n",
       "#sk-container-id-1 a.estimator_doc_link.fitted:hover {\n",
       "  /* fitted */\n",
       "  background-color: var(--sklearn-color-fitted-level-3);\n",
       "}\n",
       "</style><div id=\"sk-container-id-1\" class=\"sk-top-container\"><div class=\"sk-text-repr-fallback\"><pre>DecisionTreeClassifier(random_state=42)</pre><b>In a Jupyter environment, please rerun this cell to show the HTML representation or trust the notebook. <br />On GitHub, the HTML representation is unable to render, please try loading this page with nbviewer.org.</b></div><div class=\"sk-container\" hidden><div class=\"sk-item\"><div class=\"sk-estimator fitted sk-toggleable\"><input class=\"sk-toggleable__control sk-hidden--visually\" id=\"sk-estimator-id-1\" type=\"checkbox\" checked><label for=\"sk-estimator-id-1\" class=\"sk-toggleable__label fitted sk-toggleable__label-arrow\"><div><div>DecisionTreeClassifier</div></div><div><a class=\"sk-estimator-doc-link fitted\" rel=\"noreferrer\" target=\"_blank\" href=\"https://scikit-learn.org/1.6/modules/generated/sklearn.tree.DecisionTreeClassifier.html\">?<span>Documentation for DecisionTreeClassifier</span></a><span class=\"sk-estimator-doc-link fitted\">i<span>Fitted</span></span></div></label><div class=\"sk-toggleable__content fitted\"><pre>DecisionTreeClassifier(random_state=42)</pre></div> </div></div></div></div>"
      ],
      "text/plain": [
       "DecisionTreeClassifier(random_state=42)"
      ]
     },
     "execution_count": 22,
     "metadata": {},
     "output_type": "execute_result"
    }
   ],
   "source": [
    "dt_model.fit(x_train,y_train)"
   ]
  },
  {
   "cell_type": "code",
   "execution_count": 23,
   "id": "a3fd4baa",
   "metadata": {},
   "outputs": [],
   "source": [
    "y_pred=dt_model.predict(x_test)"
   ]
  },
  {
   "cell_type": "code",
   "execution_count": 24,
   "id": "51c51ba1",
   "metadata": {},
   "outputs": [],
   "source": [
    "score1=accuracy_score(y_test,y_pred)"
   ]
  },
  {
   "cell_type": "code",
   "execution_count": 33,
   "id": "96161136",
   "metadata": {},
   "outputs": [
    {
     "name": "stdout",
     "output_type": "stream",
     "text": [
      "Decision Tree Classifier accuracy: 0.844\n"
     ]
    }
   ],
   "source": [
    "print(f'Decision Tree Classifier accuracy: {score1}')"
   ]
  },
  {
   "cell_type": "code",
   "execution_count": 28,
   "id": "79f283ec",
   "metadata": {},
   "outputs": [],
   "source": [
    "# LogisticRegression\n",
    "\n",
    "lg = LogisticRegression()\n",
    "lg.fit(x_train,y_train)\n",
    "y_pred = lg.predict(x_test)"
   ]
  },
  {
   "cell_type": "code",
   "execution_count": 31,
   "id": "ae11474f",
   "metadata": {},
   "outputs": [
    {
     "name": "stdout",
     "output_type": "stream",
     "text": [
      "Logistic Regression Accuracy: 0.80\n",
      "              precision    recall  f1-score   support\n",
      "\n",
      "           0       0.63      0.76      0.69       102\n",
      "           1       0.70      0.61      0.65       139\n",
      "           2       0.85      0.81      0.83       103\n",
      "           3       0.97      0.97      0.97       156\n",
      "\n",
      "    accuracy                           0.80       500\n",
      "   macro avg       0.79      0.79      0.79       500\n",
      "weighted avg       0.80      0.80      0.80       500\n",
      "\n"
     ]
    }
   ],
   "source": [
    "accuracy_score_lg = accuracy_score(y_test,y_pred)\n",
    "print(f'Logistic Regression Accuracy: {accuracy_score_lg:.2f}')\n",
    "cr_lg = classification_report(y_test,y_pred, output_dict=True)\n",
    "print(classification_report(y_test,y_pred))"
   ]
  },
  {
   "cell_type": "code",
   "execution_count": 34,
   "id": "570ec272",
   "metadata": {},
   "outputs": [
    {
     "name": "stdout",
     "output_type": "stream",
     "text": [
      "Best Parameters:  {'max_depth': 10, 'max_features': None, 'min_samples_leaf': 2, 'min_samples_split': 2}\n"
     ]
    }
   ],
   "source": [
    "param_grid = {\n",
    "  'max_depth': [3,5,10,None],\n",
    "  'min_samples_split': [2,5,10],\n",
    "  'min_samples_leaf': [1,2,5],\n",
    "  'max_features': ['sqrt','log2',None]\n",
    "}\n",
    "\n",
    "grid_search = GridSearchCV(estimator = dt_model, param_grid= param_grid,\n",
    "                           cv=5, scoring='accuracy', n_jobs=-1)\n",
    "\n",
    "grid_search.fit(x_train, y_train)\n",
    "print(\"Best Parameters: \", grid_search.best_params_)"
   ]
  },
  {
   "cell_type": "code",
   "execution_count": 35,
   "id": "77d6273d",
   "metadata": {},
   "outputs": [
    {
     "name": "stdout",
     "output_type": "stream",
     "text": [
      "Best Model Accuracy: 0.85\n",
      "              precision    recall  f1-score   support\n",
      "\n",
      "           0       0.78      0.61      0.69       102\n",
      "           1       0.73      0.85      0.78       139\n",
      "           2       0.91      0.90      0.91       103\n",
      "           3       0.97      0.97      0.97       156\n",
      "\n",
      "    accuracy                           0.85       500\n",
      "   macro avg       0.85      0.83      0.84       500\n",
      "weighted avg       0.85      0.85      0.85       500\n",
      "\n"
     ]
    }
   ],
   "source": [
    "best_model_dt = grid_search.best_estimator_\n",
    "best_model_dt.fit(x_train, y_train)\n",
    "y_pred = best_model_dt.predict(x_test)\n",
    "accuracy_score_best_model_dt = accuracy_score(y_test, y_pred)\n",
    "print(f'Best Model Accuracy: {accuracy_score_best_model_dt:.2f}')\n",
    "cr_best_model_dt = classification_report(y_test, y_pred, output_dict=True)\n",
    "print(classification_report(y_test, y_pred))"
   ]
  },
  {
   "cell_type": "code",
   "execution_count": 36,
   "id": "3c33a285",
   "metadata": {},
   "outputs": [
    {
     "name": "stdout",
     "output_type": "stream",
     "text": [
      "Accuracy Score:  0.8\n",
      "              precision    recall  f1-score   support\n",
      "\n",
      "           0       0.67      0.65      0.66       102\n",
      "           1       0.70      0.76      0.73       139\n",
      "           2       0.92      0.75      0.82       103\n",
      "           3       0.90      0.97      0.94       156\n",
      "\n",
      "    accuracy                           0.80       500\n",
      "   macro avg       0.80      0.78      0.79       500\n",
      "weighted avg       0.80      0.80      0.80       500\n",
      "\n"
     ]
    }
   ],
   "source": [
    "rf = RandomForestClassifier()\n",
    "rf.fit(x_train, y_train)\n",
    "y_pred = rf.predict(x_test)\n",
    "\n",
    "accuracy_score_rf = rf.score(x_test, y_test)\n",
    "print(\"Accuracy Score: \", accuracy_score_rf)\n",
    "cr_best_model_rf = classification_report(y_test, y_pred, output_dict=True)\n",
    "print(classification_report(y_test, y_pred))"
   ]
  },
  {
   "cell_type": "code",
   "execution_count": 53,
   "id": "99a25c25",
   "metadata": {},
   "outputs": [
    {
     "name": "stdout",
     "output_type": "stream",
     "text": [
      "Best Parameters:  {'max_depth': 10, 'max_features': None, 'min_samples_leaf': 1, 'min_samples_split': 2}\n"
     ]
    }
   ],
   "source": [
    "param_grid = {\n",
    "  'max_depth': [3,5,10,None],\n",
    "  'min_samples_split': [2,5,10],\n",
    "  'min_samples_leaf': [1,2,5],\n",
    "  'max_features': ['sqrt','log2',None]\n",
    "}\n",
    "\n",
    "grid_search = GridSearchCV(estimator = rf, param_grid= param_grid,\n",
    "                           cv=5, scoring='accuracy', n_jobs=-1)\n",
    "\n",
    "grid_search.fit(x_train, y_train)\n",
    "print(\"Best Parameters: \", grid_search.best_params_)"
   ]
  },
  {
   "cell_type": "code",
   "execution_count": 54,
   "id": "b4b342e5",
   "metadata": {},
   "outputs": [
    {
     "name": "stdout",
     "output_type": "stream",
     "text": [
      "Best Model Accuracy: 0.88\n",
      "              precision    recall  f1-score   support\n",
      "\n",
      "           0       0.78      0.70      0.74       102\n",
      "           1       0.78      0.84      0.81       139\n",
      "           2       0.96      0.97      0.97       103\n",
      "           3       0.99      0.99      0.99       156\n",
      "\n",
      "    accuracy                           0.88       500\n",
      "   macro avg       0.88      0.87      0.88       500\n",
      "weighted avg       0.88      0.88      0.88       500\n",
      "\n"
     ]
    }
   ],
   "source": [
    "best_model_rf = grid_search.best_estimator_\n",
    "best_model_rf.fit(x_train, y_train)\n",
    "y_pred = best_model_rf.predict(x_test)\n",
    "accuracy_score_best_model_rf = accuracy_score(y_test, y_pred)\n",
    "print(f'Best Model Accuracy: {accuracy_score_best_model_rf:.2f}')\n",
    "cr_best_model_rf = classification_report(y_test, y_pred, output_dict=True)\n",
    "print(classification_report(y_test, y_pred))"
   ]
  },
  {
   "cell_type": "code",
   "execution_count": 39,
   "id": "fbd006bb",
   "metadata": {},
   "outputs": [],
   "source": [
    "gb = GradientBoostingClassifier()\n",
    "gb.fit(x_train, y_train)\n",
    "y_pred = gb.predict(x_test)"
   ]
  },
  {
   "cell_type": "code",
   "execution_count": 40,
   "id": "a0d3a37c",
   "metadata": {},
   "outputs": [
    {
     "name": "stdout",
     "output_type": "stream",
     "text": [
      "Accuracy Score:  0.888\n",
      "              precision    recall  f1-score   support\n",
      "\n",
      "           0       0.75      0.75      0.75       102\n",
      "           1       0.80      0.81      0.81       139\n",
      "           2       0.98      0.97      0.98       103\n",
      "           3       1.00      0.99      1.00       156\n",
      "\n",
      "    accuracy                           0.89       500\n",
      "   macro avg       0.88      0.88      0.88       500\n",
      "weighted avg       0.89      0.89      0.89       500\n",
      "\n"
     ]
    }
   ],
   "source": [
    "accuracy_score_gb = gb.score(x_test, y_test)\n",
    "print(\"Accuracy Score: \", accuracy_score_gb)\n",
    "cr_best_model_rf = classification_report(y_test, y_pred, output_dict=True)\n",
    "print(classification_report(y_test, y_pred))"
   ]
  },
  {
   "cell_type": "code",
   "execution_count": 46,
   "id": "fa2f3780",
   "metadata": {},
   "outputs": [],
   "source": [
    "xgb = XGBClassifier()\n",
    "xgb.fit(x_train, y_train)\n",
    "y_pred = xgb.predict(x_test)"
   ]
  },
  {
   "cell_type": "code",
   "execution_count": 47,
   "id": "be98c64b",
   "metadata": {},
   "outputs": [
    {
     "name": "stdout",
     "output_type": "stream",
     "text": [
      "Accuracy Score:  0.886\n",
      "              precision    recall  f1-score   support\n",
      "\n",
      "           0       0.74      0.72      0.73       102\n",
      "           1       0.79      0.81      0.80       139\n",
      "           2       0.98      0.98      0.98       103\n",
      "           3       1.00      1.00      1.00       156\n",
      "\n",
      "    accuracy                           0.89       500\n",
      "   macro avg       0.88      0.88      0.88       500\n",
      "weighted avg       0.89      0.89      0.89       500\n",
      "\n"
     ]
    }
   ],
   "source": [
    "accuracy_score_xgb = xgb.score(x_test, y_test)\n",
    "print(\"Accuracy Score: \", accuracy_score_xgb)\n",
    "cm_xgb = classification_report(y_test, y_pred, output_dict=True)\n",
    "print(classification_report(y_test, y_pred))"
   ]
  },
  {
   "cell_type": "code",
   "execution_count": 44,
   "id": "5ae56ade",
   "metadata": {},
   "outputs": [
    {
     "name": "stdout",
     "output_type": "stream",
     "text": [
      "[LightGBM] [Warning] Found whitespace in feature_names, replace with underlines\n",
      "[LightGBM] [Info] Auto-choosing row-wise multi-threading, the overhead of testing was 0.001361 seconds.\n",
      "You can set `force_row_wise=true` to remove the overhead.\n",
      "And if memory is not enough, you can set `force_col_wise=true`.\n",
      "[LightGBM] [Info] Total Bins 2098\n",
      "[LightGBM] [Info] Number of data points in the train set: 4000, number of used features: 14\n",
      "[LightGBM] [Info] Start training from score -1.611941\n",
      "[LightGBM] [Info] Start training from score -1.184988\n",
      "[LightGBM] [Info] Start training from score -1.606941\n",
      "[LightGBM] [Info] Start training from score -1.223326\n"
     ]
    }
   ],
   "source": [
    "lgb = LGBMClassifier()\n",
    "lgb.fit(x_train, y_train)\n",
    "y_pred = lgb.predict(x_test)"
   ]
  },
  {
   "cell_type": "code",
   "execution_count": 45,
   "id": "eca6938c",
   "metadata": {},
   "outputs": [
    {
     "name": "stdout",
     "output_type": "stream",
     "text": [
      "Accuracy Score:  0.892\n",
      "              precision    recall  f1-score   support\n",
      "\n",
      "           0       0.74      0.76      0.75       102\n",
      "           1       0.82      0.80      0.81       139\n",
      "           2       0.98      0.98      0.98       103\n",
      "           3       1.00      1.00      1.00       156\n",
      "\n",
      "    accuracy                           0.89       500\n",
      "   macro avg       0.88      0.89      0.89       500\n",
      "weighted avg       0.89      0.89      0.89       500\n",
      "\n"
     ]
    }
   ],
   "source": [
    "accuracy_score_lgb = lgb.score(x_test, y_test)\n",
    "print(\"Accuracy Score: \", accuracy_score_lgb)\n",
    "cm_lgb = classification_report(y_test, y_pred, output_dict=True)\n",
    "print(classification_report(y_test, y_pred))"
   ]
  },
  {
   "cell_type": "code",
   "execution_count": 49,
   "id": "d923c0f2",
   "metadata": {},
   "outputs": [
    {
     "name": "stdout",
     "output_type": "stream",
     "text": [
      "+--------------------------+------------------+-------------+----------+------------+\n",
      "| Model                    |   accuracy score |   Precision |   Recall |   F1-Score |\n",
      "+==========================+==================+=============+==========+============+\n",
      "| Random Forest Classifier |            0.896 |    0.745098 | 0.745098 |   0.745098 |\n",
      "+--------------------------+------------------+-------------+----------+------------+\n",
      "| LightGBM Classifier      |            0.892 |    0.742857 | 0.764706 |   0.753623 |\n",
      "+--------------------------+------------------+-------------+----------+------------+\n",
      "| XGBoost Classifier       |            0.886 |    0.744898 | 0.715686 |   0.73     |\n",
      "+--------------------------+------------------+-------------+----------+------------+\n",
      "| Decision Tree Classifier |            0.85  |    0.78481  | 0.607843 |   0.685083 |\n",
      "+--------------------------+------------------+-------------+----------+------------+\n",
      "| Logistic Regression      |            0.796 |    0.634146 | 0.764706 |   0.693333 |\n",
      "+--------------------------+------------------+-------------+----------+------------+\n"
     ]
    }
   ],
   "source": [
    "data = [\n",
    "    [\"Logistic Regression\", accuracy_score_lg, cr_lg['0']['precision'], cr_lg['0']['recall'], cr_lg['0']['f1-score']],\n",
    "    [\"Decision Tree Classifier\", accuracy_score_best_model_dt, cr_best_model_dt['0']['precision'], cr_best_model_dt['0']['recall'], cr_best_model_dt['0']['f1-score']],\n",
    "    [\"Random Forest Classifier\", accuracy_score_best_model_rf, cr_best_model_rf['0']['precision'], cr_best_model_rf['0']['recall'], cr_best_model_rf['0']['f1-score']],\n",
    "    [\"XGBoost Classifier\", accuracy_score_xgb, cm_xgb['0']['precision'], cm_xgb['0']['recall'], cm_xgb['0']['f1-score']],\n",
    "    [\"LightGBM Classifier\", accuracy_score_lgb, cm_lgb['0']['precision'], cm_lgb['0']['recall'], cm_lgb['0']['f1-score']],\n",
    "]\n",
    "\n",
    "sorted_data = sorted(data, key=lambda x: x[1], reverse=True)\n",
    "\n",
    "headers = ['Model', 'accuracy score', 'Precision', 'Recall', 'F1-Score']\n",
    "print(tabulate(sorted_data, headers=headers, tablefmt='grid')) "
   ]
  },
  {
   "cell_type": "code",
   "execution_count": 56,
   "id": "36647a4c",
   "metadata": {},
   "outputs": [
    {
     "data": {
      "text/plain": [
       "['sleep_quality_model.joblib']"
      ]
     },
     "execution_count": 56,
     "metadata": {},
     "output_type": "execute_result"
    }
   ],
   "source": [
    "model = lgb\n",
    "dump(model, 'sleep_quality_model.joblib')"
   ]
  },
  {
   "cell_type": "code",
   "execution_count": null,
   "id": "7f7a548e",
   "metadata": {},
   "outputs": [],
   "source": []
  }
 ],
 "metadata": {
  "kernelspec": {
   "display_name": "Python 3",
   "language": "python",
   "name": "python3"
  },
  "language_info": {
   "codemirror_mode": {
    "name": "ipython",
    "version": 3
   },
   "file_extension": ".py",
   "mimetype": "text/x-python",
   "name": "python",
   "nbconvert_exporter": "python",
   "pygments_lexer": "ipython3",
   "version": "3.13.2"
  }
 },
 "nbformat": 4,
 "nbformat_minor": 5
}
